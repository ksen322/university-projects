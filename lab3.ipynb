{
  "nbformat": 4,
  "nbformat_minor": 0,
  "metadata": {
    "colab": {
      "provenance": [],
      "authorship_tag": "ABX9TyOrYidOl7wUx8EKJZETdm6W"
    },
    "kernelspec": {
      "name": "python3",
      "display_name": "Python 3"
    },
    "language_info": {
      "name": "python"
    }
  },
  "cells": [
    {
      "cell_type": "markdown",
      "source": [
        "**Подключение библиотек**"
      ],
      "metadata": {
        "id": "Sf0tYDBrq4Zj"
      }
    },
    {
      "cell_type": "code",
      "source": [
        "import ast\n",
        "import torch\n",
        "import random\n",
        "from random import randint\n",
        "import numpy as np\n",
        "import matplotlib.pyplot as plt"
      ],
      "metadata": {
        "id": "Z9VJJPF2q7l8"
      },
      "execution_count": null,
      "outputs": []
    },
    {
      "cell_type": "markdown",
      "source": [
        "**Загрузка текстового файла (26 букв английского алфавита 5х7)**"
      ],
      "metadata": {
        "id": "h1FekmH6s8LC"
      }
    },
    {
      "cell_type": "code",
      "source": [
        "text = open('alphabet.txt', 'r')\n",
        "\n",
        "# Удаление пустых строк и объединение в один большой массив\n",
        "data = np.array([ast.literal_eval(line.strip(',\\n')) for line in text if line.strip()])\n",
        "\n",
        "# Преобразование элементов массива из int в float32\n",
        "data = data.astype(np.float32)\n",
        "\n",
        "# Преобразование maccива в размер 26x35 (где 26 - количество букв, 35 - букб завернутых в одну строку)\n",
        "data = data.reshape(26, 35)"
      ],
      "metadata": {
        "id": "6rAMk0Azs-_c"
      },
      "execution_count": null,
      "outputs": []
    },
    {
      "cell_type": "markdown",
      "source": [
        "**Ввод переменных**"
      ],
      "metadata": {
        "id": "aCmWvm9dvkNa"
      }
    },
    {
      "cell_type": "code",
      "source": [
        "# Номер варианта\n",
        "Nv = 2\n",
        "# Количество образов\n",
        "Np = 10"
      ],
      "metadata": {
        "id": "PBB2sOXXvmak"
      },
      "execution_count": null,
      "outputs": []
    },
    {
      "cell_type": "markdown",
      "source": [
        "**Подготовка данных**"
      ],
      "metadata": {
        "id": "KnW4JOKZvyK6"
      }
    },
    {
      "cell_type": "markdown",
      "source": [
        "**Идеальные обучающие данные с файла**"
      ],
      "metadata": {
        "id": "RXxY4iZ5v01Q"
      }
    },
    {
      "cell_type": "code",
      "source": [
        "# Входы для № букв, om С до L\n",
        "inp = torch.from_numpy(data[Nv: Nv + Np, :])\n",
        "# Эталонные входы, единичная матрица размера Np\n",
        "out = torch.from_numpy(np.eye(Np))"
      ],
      "metadata": {
        "id": "OVdB7rPgv3DO"
      },
      "execution_count": null,
      "outputs": []
    },
    {
      "cell_type": "markdown",
      "source": [
        "**Зашумленные обучающие данные с файла**"
      ],
      "metadata": {
        "id": "gCobVqjVwO7E"
      }
    },
    {
      "cell_type": "code",
      "source": [
        "def noisy_inp():\n",
        "  random.seed(1)\n",
        "  noise_rate = 0.1\n",
        "\n",
        "  text_for_noise = open('alphabet.txt', 'r')\n",
        "\n",
        "  noisy_data = np.array([ast.literal_eval(line.strip(',\\n')) for line in text_for_noise if line.strip()])\n",
        "\n",
        "  total_pixels = len(noisy_data) * len(noisy_data[0])\n",
        "\n",
        "  noise_pixels = round(total_pixels * noise_rate)\n",
        "\n",
        "  rand_row = []\n",
        "  rand_col = []\n",
        "\n",
        "  for i in range(noise_pixels):\n",
        "\n",
        "    rand_row.append(randint(0, len(noisy_data) - 1))\n",
        "    rand_col.append(randint(0, len(noisy_data[0]) - 1))\n",
        "\n",
        "    if noisy_data[rand_row[-1]][rand_col[-1]] == 1:\n",
        "      noisy_data[rand_row[-1]][rand_col[-1]] -= 1\n",
        "\n",
        "    else:\n",
        "      noisy_data[rand_row[-1]][rand_col[-1]] += 1\n",
        "\n",
        "  noisy_data = noisy_data.astype(np.float32)\n",
        "  noisy_data = noisy_data.reshape(26, 35)\n",
        "\n",
        "  noisy_input = torch.from_numpy(noisy_data[Nv: Nv + Np, :])\n",
        "\n",
        "  return noisy_input"
      ],
      "metadata": {
        "id": "ZUgDpG3qwQZo"
      },
      "execution_count": null,
      "outputs": []
    },
    {
      "cell_type": "markdown",
      "source": [
        "**Создание нейронной сети**"
      ],
      "metadata": {
        "id": "Z4wiOteRxbIF"
      }
    },
    {
      "cell_type": "code",
      "source": [
        "class Perceptron(torch.nn.Module):\n",
        "\n",
        "  def __init__(self, hidden_neurons, input_dim = 35, output_dim = Np):\n",
        "    super(Perceptron, self).__init__()\n",
        "\n",
        "    self.layers = torch.nn.Sequential()\n",
        "\n",
        "    self.layers.add_module('layer 1', torch.nn.Linear(input_dim, hidden_neurons))\n",
        "\n",
        "    self.layers.add_module('activation 1', torch.nn.ReLU())\n",
        "\n",
        "    self.layers.add_module('dropout 1', torch.nn.Dropout(p = 0.1))\n",
        "\n",
        "    self. layers.add_module('layer 2', torch.nn.Linear(hidden_neurons, hidden_neurons))\n",
        "\n",
        "    self.layers.add_module('activation 2', torch.nn.Sigmoid())\n",
        "\n",
        "    self.layers.add_module('layer 3', torch.nn.Linear(hidden_neurons, output_dim))\n",
        "\n",
        "  def forward(self, train_data):\n",
        "    return self.layers(train_data)\n",
        "\n",
        "model = Perceptron(30)\n",
        "model"
      ],
      "metadata": {
        "colab": {
          "base_uri": "https://localhost:8080/"
        },
        "id": "FvRRnW72xjH7",
        "outputId": "b73d4728-00fc-41bc-b290-305957453983"
      },
      "execution_count": null,
      "outputs": [
        {
          "output_type": "execute_result",
          "data": {
            "text/plain": [
              "Perceptron(\n",
              "  (layers): Sequential(\n",
              "    (layer 1): Linear(in_features=35, out_features=30, bias=True)\n",
              "    (activation 1): ReLU()\n",
              "    (dropout 1): Dropout(p=0.1, inplace=False)\n",
              "    (layer 2): Linear(in_features=30, out_features=30, bias=True)\n",
              "    (activation 2): Sigmoid()\n",
              "    (layer 3): Linear(in_features=30, out_features=10, bias=True)\n",
              "  )\n",
              ")"
            ]
          },
          "metadata": {},
          "execution_count": 78
        }
      ]
    },
    {
      "cell_type": "markdown",
      "source": [
        "**Обучение нейронной сети**"
      ],
      "metadata": {
        "id": "ySOrfV1pyaO5"
      }
    },
    {
      "cell_type": "markdown",
      "source": [
        "**Идеальная обучающая выборка**"
      ],
      "metadata": {
        "id": "N4G5Ur3LydHo"
      }
    },
    {
      "cell_type": "code",
      "source": [
        "def training(model_name, input_data, output_data, epochs):\n",
        "  # Оптимайзер\n",
        "  optimizer = torch.optim.Adam(model_name.parameters(), lr = 0.01)\n",
        "\n",
        "  # loss-функция\n",
        "  def loss(pred, target):\n",
        "    ans = (pred - target) ** 2\n",
        "    return ans.mean()\n",
        "\n",
        "  # Обучение\n",
        "  print(\"Обучение запущено!\")\n",
        "  for epoch in range(epochs):\n",
        "\n",
        "    optimizer.zero_grad()\n",
        "    y_pred = model_name. forward(input_data)\n",
        "    loss_val = loss(y_pred, output_data)\n",
        "    loss_val.backward()\n",
        "    optimizer.step()\n",
        "\n",
        "    if epoch % 10 == 0:\n",
        "      y_pred = model_name.forward(input_data)\n",
        "      print((((y_pred - output_data) ** 2).mean()) ** 0.5)\n",
        "  print(\"Обучение Завершено!\\n\")"
      ],
      "metadata": {
        "id": "4qMfwYlPyew2"
      },
      "execution_count": null,
      "outputs": []
    },
    {
      "cell_type": "code",
      "source": [
        "training(model, inp, out, 200)"
      ],
      "metadata": {
        "colab": {
          "base_uri": "https://localhost:8080/"
        },
        "id": "5nfy_zQ3zKiE",
        "outputId": "5b9c0f2d-8f35-4caa-af1b-50b8cf7f7b8b"
      },
      "execution_count": null,
      "outputs": [
        {
          "output_type": "stream",
          "name": "stdout",
          "text": [
            "Обучение запущено!\n",
            "tensor(0.3282, dtype=torch.float64, grad_fn=<PowBackward0>)\n",
            "tensor(0.2600, dtype=torch.float64, grad_fn=<PowBackward0>)\n",
            "tensor(0.2124, dtype=torch.float64, grad_fn=<PowBackward0>)\n",
            "tensor(0.1788, dtype=torch.float64, grad_fn=<PowBackward0>)\n",
            "tensor(0.1583, dtype=torch.float64, grad_fn=<PowBackward0>)\n",
            "tensor(0.1620, dtype=torch.float64, grad_fn=<PowBackward0>)\n",
            "tensor(0.1361, dtype=torch.float64, grad_fn=<PowBackward0>)\n",
            "tensor(0.1370, dtype=torch.float64, grad_fn=<PowBackward0>)\n",
            "tensor(0.0884, dtype=torch.float64, grad_fn=<PowBackward0>)\n",
            "tensor(0.1095, dtype=torch.float64, grad_fn=<PowBackward0>)\n",
            "tensor(0.0895, dtype=torch.float64, grad_fn=<PowBackward0>)\n",
            "tensor(0.0734, dtype=torch.float64, grad_fn=<PowBackward0>)\n",
            "tensor(0.1146, dtype=torch.float64, grad_fn=<PowBackward0>)\n",
            "tensor(0.0825, dtype=torch.float64, grad_fn=<PowBackward0>)\n",
            "tensor(0.0657, dtype=torch.float64, grad_fn=<PowBackward0>)\n",
            "tensor(0.0524, dtype=torch.float64, grad_fn=<PowBackward0>)\n",
            "tensor(0.1129, dtype=torch.float64, grad_fn=<PowBackward0>)\n",
            "tensor(0.0506, dtype=torch.float64, grad_fn=<PowBackward0>)\n",
            "tensor(0.0514, dtype=torch.float64, grad_fn=<PowBackward0>)\n",
            "tensor(0.0438, dtype=torch.float64, grad_fn=<PowBackward0>)\n",
            "Обучение Завершено!\n",
            "\n"
          ]
        }
      ]
    },
    {
      "cell_type": "code",
      "source": [
        "training(model, noisy_inp(), out, 200)"
      ],
      "metadata": {
        "colab": {
          "base_uri": "https://localhost:8080/"
        },
        "id": "YgTWYnFMzNJM",
        "outputId": "56be0a37-a448-40cf-96d2-0f1490e91166"
      },
      "execution_count": null,
      "outputs": [
        {
          "output_type": "stream",
          "name": "stdout",
          "text": [
            "Обучение запущено!\n",
            "tensor(0.3555, dtype=torch.float64, grad_fn=<PowBackward0>)\n",
            "tensor(0.2766, dtype=torch.float64, grad_fn=<PowBackward0>)\n",
            "tensor(0.2282, dtype=torch.float64, grad_fn=<PowBackward0>)\n",
            "tensor(0.1813, dtype=torch.float64, grad_fn=<PowBackward0>)\n",
            "tensor(0.1400, dtype=torch.float64, grad_fn=<PowBackward0>)\n",
            "tensor(0.1119, dtype=torch.float64, grad_fn=<PowBackward0>)\n",
            "tensor(0.1303, dtype=torch.float64, grad_fn=<PowBackward0>)\n",
            "tensor(0.0769, dtype=torch.float64, grad_fn=<PowBackward0>)\n",
            "tensor(0.0885, dtype=torch.float64, grad_fn=<PowBackward0>)\n",
            "tensor(0.0598, dtype=torch.float64, grad_fn=<PowBackward0>)\n",
            "tensor(0.0695, dtype=torch.float64, grad_fn=<PowBackward0>)\n",
            "tensor(0.0637, dtype=torch.float64, grad_fn=<PowBackward0>)\n",
            "tensor(0.0546, dtype=torch.float64, grad_fn=<PowBackward0>)\n",
            "tensor(0.0665, dtype=torch.float64, grad_fn=<PowBackward0>)\n",
            "tensor(0.0562, dtype=torch.float64, grad_fn=<PowBackward0>)\n",
            "tensor(0.0614, dtype=torch.float64, grad_fn=<PowBackward0>)\n",
            "tensor(0.0930, dtype=torch.float64, grad_fn=<PowBackward0>)\n",
            "tensor(0.0937, dtype=torch.float64, grad_fn=<PowBackward0>)\n",
            "tensor(0.0554, dtype=torch.float64, grad_fn=<PowBackward0>)\n",
            "tensor(0.0753, dtype=torch.float64, grad_fn=<PowBackward0>)\n",
            "Обучение Завершено!\n",
            "\n"
          ]
        }
      ]
    },
    {
      "cell_type": "markdown",
      "source": [
        "**Тестирование нейронной сети**"
      ],
      "metadata": {
        "id": "XsvU33_6zkwa"
      }
    },
    {
      "cell_type": "code",
      "source": [
        "def testing(model_name, input_data):\n",
        "  test_out = model_name.forward(input_data)\n",
        "  test_out = test_out.detach().numpy()\n",
        "\n",
        "  return test_out"
      ],
      "metadata": {
        "id": "jc2H_p9vzlzt"
      },
      "execution_count": null,
      "outputs": []
    },
    {
      "cell_type": "markdown",
      "source": [
        "**Нейронная сеть на идеальный данных**"
      ],
      "metadata": {
        "id": "vdfxNzKU4KGg"
      }
    },
    {
      "cell_type": "markdown",
      "source": [
        "**Тестирование идеальных данных**"
      ],
      "metadata": {
        "id": "5aweCDaOz2HV"
      }
    },
    {
      "cell_type": "code",
      "source": [
        "data_test1 = testing(model, inp)\n",
        "\n",
        "plt.clf\n",
        "plt.imshow(data_test1, cmap='gray', clim = (-1, 1))\n",
        "plt.show()"
      ],
      "metadata": {
        "colab": {
          "base_uri": "https://localhost:8080/",
          "height": 430
        },
        "id": "haFNnrbdz4EB",
        "outputId": "7858290a-a97c-461f-a602-f3e1bacf7cc7"
      },
      "execution_count": null,
      "outputs": [
        {
          "output_type": "display_data",
          "data": {
            "text/plain": [
              "<Figure size 640x480 with 1 Axes>"
            ],
            "image/png": "[encoded data removed]"
          },
          "metadata": {}
        }
      ]
    },
    {
      "cell_type": "markdown",
      "source": [
        "**Тестирование зашумленных данных**"
      ],
      "metadata": {
        "id": "AJFp5YvJ0EtZ"
      }
    },
    {
      "cell_type": "code",
      "source": [
        "noisy_data_test1 = testing(model, noisy_inp())\n",
        "\n",
        "plt.clf\n",
        "plt.imshow(noisy_data_test1, cmap='gray', clim = (-1, 1))\n",
        "plt.show()"
      ],
      "metadata": {
        "colab": {
          "base_uri": "https://localhost:8080/",
          "height": 430
        },
        "id": "wvaIvaxR0GxT",
        "outputId": "d0e67080-c1ee-4560-8406-d2f1b4a695ba"
      },
      "execution_count": null,
      "outputs": [
        {
          "output_type": "display_data",
          "data": {
            "text/plain": [
              "<Figure size 640x480 with 1 Axes>"
            ],
            "image/png": "[encoded data removed]"
          },
          "metadata": {}
        }
      ]
    },
    {
      "cell_type": "markdown",
      "source": [
        "**Нейронная сеть на зашумленных данных**"
      ],
      "metadata": {
        "id": "iDSkVG3z4PRE"
      }
    },
    {
      "cell_type": "markdown",
      "source": [
        "**Тестирование идеальных данных**"
      ],
      "metadata": {
        "id": "yc8C_oO40d62"
      }
    },
    {
      "cell_type": "code",
      "source": [
        "data_test1 = testing(model, inp)\n",
        "\n",
        "plt.clf\n",
        "plt.imshow(data_test1, cmap = 'gray', clim = (-1, 1))\n",
        "plt.show()"
      ],
      "metadata": {
        "colab": {
          "base_uri": "https://localhost:8080/",
          "height": 430
        },
        "id": "tb132UJ20e15",
        "outputId": "0bddf786-cacd-420e-f96c-57b68c224518"
      },
      "execution_count": null,
      "outputs": [
        {
          "output_type": "display_data",
          "data": {
            "text/plain": [
              "<Figure size 640x480 with 1 Axes>"
            ],
            "image/png": "[encoded data removed]"
          },
          "metadata": {}
        }
      ]
    },
    {
      "cell_type": "markdown",
      "source": [
        "**Тестирование зашумленных данных**"
      ],
      "metadata": {
        "id": "UXeEwf3F2gFM"
      }
    },
    {
      "cell_type": "code",
      "source": [
        "noisy_data_testl = testing(model, noisy_inp())\n",
        "\n",
        "plt.clf\n",
        "plt.imshow(noisy_data_test1, cmap='gray', clim=(-1, 1))\n",
        "plt.show()"
      ],
      "metadata": {
        "colab": {
          "base_uri": "https://localhost:8080/",
          "height": 430
        },
        "id": "h9Y-QFAH2iC3",
        "outputId": "3c788500-af98-4576-9446-560b94f22602"
      },
      "execution_count": null,
      "outputs": [
        {
          "output_type": "display_data",
          "data": {
            "text/plain": [
              "<Figure size 640x480 with 1 Axes>"
            ],
            "image/png": "[encoded data removed]"
          },
          "metadata": {}
        }
      ]
    }
  ]
}